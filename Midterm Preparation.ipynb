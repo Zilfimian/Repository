{
 "cells": [
  {
   "cell_type": "markdown",
   "id": "bad4d86b",
   "metadata": {},
   "source": [
    "# Problem 1\n",
    "* 1.1 Գրել ֆունկցիա որը կվերադարձնի լիստում եղած ամենամեծ թիվը։\n",
    "* 1.2 Գրել ֆունկցիա որը օգտագործելով նախորդ խնդրի լուծումը կստանա մատրից և կվերադարձնի լիստ, որը\n",
    "պարունակում է մատրիցի յուրաքաչյուր տողի ամենամեծ թիվը։\n"
   ]
  },
  {
   "cell_type": "code",
   "execution_count": 4,
   "id": "598e8d32",
   "metadata": {},
   "outputs": [
    {
     "data": {
      "text/plain": [
       "8"
      ]
     },
     "execution_count": 4,
     "metadata": {},
     "output_type": "execute_result"
    }
   ],
   "source": [
    "# 1.1 the maximum value:\n",
    "def max_my(lx):\n",
    "    max_number = 0\n",
    "    for i in range(len(lx)):\n",
    "        if(lx[i]>max_number):\n",
    "            max_number = lx[i]\n",
    "    return max_number\n",
    "\n",
    "max_my([4,5,8,4])"
   ]
  },
  {
   "cell_type": "code",
   "execution_count": 12,
   "id": "a9b1663a",
   "metadata": {},
   "outputs": [],
   "source": [
    "# 1.2 \n",
    "def row_max(mx):\n",
    "    list_of_maxs = []\n",
    "    for i in range(len(mx)):\n",
    "        list_of_maxs.append(max_my(mx[i]))\n",
    "    return list_of_maxs\n"
   ]
  },
  {
   "cell_type": "code",
   "execution_count": 14,
   "id": "9ceb5559",
   "metadata": {},
   "outputs": [
    {
     "data": {
      "text/plain": [
       "[28, 41]"
      ]
     },
     "execution_count": 14,
     "metadata": {},
     "output_type": "execute_result"
    }
   ],
   "source": [
    "list_to_check = [[1,28,3],[41,5,6]]\n",
    "row_max(list_to_check)"
   ]
  },
  {
   "cell_type": "code",
   "execution_count": 39,
   "id": "63a0e6b6",
   "metadata": {},
   "outputs": [
    {
     "data": {
      "text/plain": [
       "[[1, 28, 3], [41, 5, 6]]"
      ]
     },
     "execution_count": 39,
     "metadata": {},
     "output_type": "execute_result"
    }
   ],
   "source": [
    "# check (should be deleted)\n",
    "list_to_check[0]\n",
    "range(len(list_to_check))\n",
    "list_to_check"
   ]
  },
  {
   "cell_type": "markdown",
   "id": "cfbdc643",
   "metadata": {},
   "source": [
    "**Hurrah! Everything is correct!**"
   ]
  },
  {
   "cell_type": "markdown",
   "id": "a58f6bbd",
   "metadata": {},
   "source": [
    "Now suppose the same is assigned for colums"
   ]
  },
  {
   "cell_type": "markdown",
   "id": "1f64072c",
   "metadata": {},
   "source": [
    "# Transpose of matrix"
   ]
  },
  {
   "cell_type": "code",
   "execution_count": 40,
   "id": "485410df",
   "metadata": {},
   "outputs": [
    {
     "data": {
      "text/plain": [
       "[[1, 41], [28, 5], [3, 6]]"
      ]
     },
     "execution_count": 40,
     "metadata": {},
     "output_type": "execute_result"
    }
   ],
   "source": [
    "def transpose(list_2d):\n",
    "    \n",
    "    list_final=[]\n",
    "        \n",
    "    for i in range(len(list_2d[0])):\n",
    "        # print(i)\n",
    "        row = []\n",
    "        for item in list_2d:\n",
    "            # print(item[i])\n",
    "            row.append(item[i])\n",
    "        list_final.append(row)\n",
    "    return list_final\n",
    "\n",
    "transpose(list_to_check)"
   ]
  },
  {
   "cell_type": "code",
   "execution_count": 41,
   "id": "3994cd90",
   "metadata": {},
   "outputs": [
    {
     "data": {
      "text/plain": [
       "[[2, 1, 1, 2, 2, 2],\n",
       " [2, 3, 3, 4, 4, 4],\n",
       " [2, 1, 6, 6, 6, 6],\n",
       " [2, 3, 7, 7, 6, 6],\n",
       " [4, 1, 9, 10, 12, 12],\n",
       " [2, 5, 10, 5, 7, 14]]"
      ]
     },
     "execution_count": 41,
     "metadata": {},
     "output_type": "execute_result"
    }
   ],
   "source": [
    "mat_new = [[2,2,2,2,4,2],\n",
    "           [1,3,1,3,1,5],\n",
    "           [1,3,6,7,9,10],\n",
    "           [2,4,6,7,10,5],\n",
    "           [2,4,6,6,12,7],\n",
    "          [2,4,6,6,12,14]]\n",
    "transpose(mat_new)"
   ]
  },
  {
   "cell_type": "code",
   "execution_count": 42,
   "id": "6f24b0c0",
   "metadata": {},
   "outputs": [
    {
     "data": {
      "text/plain": [
       "[4, 5, 10, 10, 12, 14]"
      ]
     },
     "execution_count": 42,
     "metadata": {},
     "output_type": "execute_result"
    }
   ],
   "source": [
    "row_max(mat_new)"
   ]
  },
  {
   "cell_type": "code",
   "execution_count": 43,
   "id": "2bae7ae2",
   "metadata": {},
   "outputs": [
    {
     "data": {
      "text/plain": [
       "[2, 4, 6, 7, 12, 14]"
      ]
     },
     "execution_count": 43,
     "metadata": {},
     "output_type": "execute_result"
    }
   ],
   "source": [
    "row_max(transpose(mat_new))"
   ]
  },
  {
   "cell_type": "markdown",
   "id": "4345e5b4",
   "metadata": {},
   "source": [
    "# Problem 2\n",
    "* 2․1 Գրել ֆունկցիա որը կհաշվի տրված թվի ֆակտորալը։\n",
    "* 2․2 Գրել ֆունկցիա որը օգտագործելով նախորդ խնդրի լուծումը կստանա մատրից և կվերադարձնի լիստ, որը\n",
    "պարունակում է մատրիցի երկորդական անկյունագծի թվերի ֆակտորիալները։\n",
    "\n"
   ]
  },
  {
   "cell_type": "code",
   "execution_count": 50,
   "id": "397c8e70",
   "metadata": {},
   "outputs": [
    {
     "data": {
      "text/plain": [
       "720"
      ]
     },
     "execution_count": 50,
     "metadata": {},
     "output_type": "execute_result"
    }
   ],
   "source": [
    "# 2.1\n",
    "def factorial(n):\n",
    "    prod = 1\n",
    "    for i in range(1,n+1):\n",
    "        prod=prod*i\n",
    "    return prod\n",
    "\n",
    "factorial(6)"
   ]
  },
  {
   "cell_type": "code",
   "execution_count": 92,
   "id": "cd479049",
   "metadata": {},
   "outputs": [
    {
     "name": "stdout",
     "output_type": "stream",
     "text": [
      "2\n",
      "1\n",
      "7\n",
      "6\n",
      "4\n",
      "2\n"
     ]
    },
    {
     "data": {
      "text/plain": [
       "[2, 1, 5040, 720, 24, 2]"
      ]
     },
     "execution_count": 92,
     "metadata": {},
     "output_type": "execute_result"
    }
   ],
   "source": [
    "# 2.2\n",
    "def diag_factorial(mx):\n",
    "    \n",
    "    list_of_factorials = []\n",
    "    \n",
    "    for i in range(len(mx)):\n",
    "        for j in range(len(mx)):\n",
    "            \n",
    "#             if (i == j): # // Condition for principal diagonal\n",
    "#                 print(mx[i][j]) \n",
    "            if ((i + j) == (len(mx) - 1)):\n",
    "              #  print(mx[i][j])\n",
    "                list_of_factorials.append(factorial(mx[i][j]))\n",
    "    return list_of_factorials\n",
    "\n",
    "diag_factorial(mat_new)"
   ]
  },
  {
   "cell_type": "code",
   "execution_count": 93,
   "id": "3b1fab13",
   "metadata": {},
   "outputs": [
    {
     "name": "stdout",
     "output_type": "stream",
     "text": [
      "28\n",
      "41\n"
     ]
    },
    {
     "data": {
      "text/plain": [
       "[304888344611713860501504000000,\n",
       " 33452526613163807108170062053440751665152000000000]"
      ]
     },
     "execution_count": 93,
     "metadata": {},
     "output_type": "execute_result"
    }
   ],
   "source": [
    "diag_factorial(list_to_check)"
   ]
  },
  {
   "cell_type": "markdown",
   "id": "e2bf9841",
   "metadata": {},
   "source": [
    "# Problem 3\n",
    "* 3․1 Գրել ֆունկցիա, որը կստանա լիստ և կհաշվի լիստում եղած թվերի միջին թվաբանականը։\n",
    "* 3․2 Գրել ֆունկցիա, որը կստանա մատրից և կվերադարձնի լիստ, որը պարունակում է մատրիցի յուրաքանչյուր\n",
    "սյան միջին թվաբանականը։\n",
    "\n"
   ]
  },
  {
   "cell_type": "code",
   "execution_count": 105,
   "id": "eccb67ec",
   "metadata": {},
   "outputs": [],
   "source": [
    "# 3.1 \n",
    "def average(lx):\n",
    "    \n",
    "    sum = 0\n",
    "    \n",
    "    for i in range(len(lx)):\n",
    "        sum = sum + lx[i]\n",
    "        \n",
    "    mean = sum/len(lx)\n",
    "    return(mean)\n",
    "      "
   ]
  },
  {
   "cell_type": "code",
   "execution_count": 107,
   "id": "763cf56d",
   "metadata": {},
   "outputs": [
    {
     "data": {
      "text/plain": [
       "14.285714285714286"
      ]
     },
     "execution_count": 107,
     "metadata": {},
     "output_type": "execute_result"
    }
   ],
   "source": [
    "average([-1,0,1,-100,0,100])"
   ]
  },
  {
   "cell_type": "code",
   "execution_count": 109,
   "id": "66a8d800",
   "metadata": {},
   "outputs": [
    {
     "data": {
      "text/plain": [
       "0.5"
      ]
     },
     "execution_count": 109,
     "metadata": {},
     "output_type": "execute_result"
    }
   ],
   "source": [
    "average([2,0,1,0,0,0])"
   ]
  },
  {
   "cell_type": "code",
   "execution_count": 211,
   "id": "377a5e9a",
   "metadata": {},
   "outputs": [],
   "source": [
    "# 3.2'\n",
    "def row_mean(mx):\n",
    "    \n",
    "    list_of_row_mean = []\n",
    "    \n",
    "    for i in range(len(mx)):\n",
    "        list_of_row_mean.append(average(mx[i]))\n",
    "    return list_of_row_mean    "
   ]
  },
  {
   "cell_type": "code",
   "execution_count": 212,
   "id": "dbe469ef",
   "metadata": {},
   "outputs": [
    {
     "data": {
      "text/plain": [
       "[1.0, 0.5, 0.0]"
      ]
     },
     "execution_count": 212,
     "metadata": {},
     "output_type": "execute_result"
    }
   ],
   "source": [
    "row_mean([[2,0],[1,0],[0,0]])"
   ]
  },
  {
   "cell_type": "code",
   "execution_count": 125,
   "id": "52ef3da5",
   "metadata": {},
   "outputs": [],
   "source": [
    "# 3.2\n",
    "def col_mean(mx):\n",
    "    \n",
    "    mx = transpose(mx)\n",
    "    list_of_col_mean = []\n",
    "    \n",
    "    for i in range(len(mx)):\n",
    "        list_of_col_mean.append(average(mx[i]))\n",
    "    return list_of_col_mean  "
   ]
  },
  {
   "cell_type": "code",
   "execution_count": 126,
   "id": "fe5656e8",
   "metadata": {},
   "outputs": [
    {
     "data": {
      "text/plain": [
       "[1.0, 0.0]"
      ]
     },
     "execution_count": 126,
     "metadata": {},
     "output_type": "execute_result"
    }
   ],
   "source": [
    "col_mean([[2,0],[1,0],[0,0]])"
   ]
  },
  {
   "cell_type": "code",
   "execution_count": 130,
   "id": "eb244068",
   "metadata": {},
   "outputs": [
    {
     "name": "stdout",
     "output_type": "stream",
     "text": [
      "[[1, 28, 3], [41, 5, 6]]\n"
     ]
    },
    {
     "data": {
      "text/plain": [
       "[21.0, 16.5, 4.5]"
      ]
     },
     "execution_count": 130,
     "metadata": {},
     "output_type": "execute_result"
    }
   ],
   "source": [
    "print(list_to_check)\n",
    "col_mean(list_to_check)"
   ]
  },
  {
   "cell_type": "markdown",
   "id": "ae07e9aa",
   "metadata": {},
   "source": [
    "# Problem 4\n",
    "* 4․1 Գրել ֆունկցիա որը կստանա լիստ և կստուգի արդյոք լիստում եղած թվերը դասավորված են ըստ աճման։\n",
    "* 4․2 Գրել ֆունկցիա որը կստանա մատրից և կվերադարձնի լիստ, որը պարունակում է բոլոր այն տողերի\n",
    "ինդեքսները, որոնք դասավորված են ըստ աճման։"
   ]
  },
  {
   "cell_type": "code",
   "execution_count": 202,
   "id": "015169c4",
   "metadata": {},
   "outputs": [
    {
     "data": {
      "text/plain": [
       "True"
      ]
     },
     "execution_count": 202,
     "metadata": {},
     "output_type": "execute_result"
    }
   ],
   "source": [
    "# 4.1\n",
    "def is_sorted(list):\n",
    "    previous = list[0]\n",
    "    for number in list:\n",
    "        if number < previous:\n",
    "            return False\n",
    "        previous = number\n",
    "    return True\n",
    "\n",
    "is_sorted([1,2,33,44,55,66])"
   ]
  },
  {
   "cell_type": "code",
   "execution_count": 203,
   "id": "141eb0f9",
   "metadata": {},
   "outputs": [],
   "source": [
    "# 4.1'\n",
    "def sort(lx):\n",
    "    for i in range(len(lx)):\n",
    "        for j in range(len(lx)):\n",
    "        \n",
    "            if(lx[i] < lx[j]):\n",
    "                temp = lx[i]\n",
    "                lx[i] = lx[j]\n",
    "                lx[j] = temp\n",
    "    print(lx)        "
   ]
  },
  {
   "cell_type": "code",
   "execution_count": 204,
   "id": "997efa1c",
   "metadata": {},
   "outputs": [
    {
     "name": "stdout",
     "output_type": "stream",
     "text": [
      "[1, 2, 6, 35, 41, 50]\n"
     ]
    }
   ],
   "source": [
    "sort([1,2,35,41,6,50])"
   ]
  },
  {
   "cell_type": "code",
   "execution_count": 206,
   "id": "ffd92107",
   "metadata": {},
   "outputs": [
    {
     "name": "stdout",
     "output_type": "stream",
     "text": [
      "[1, 2, 3, 4, 5, 6]\n"
     ]
    },
    {
     "data": {
      "text/plain": [
       "False"
      ]
     },
     "execution_count": 206,
     "metadata": {},
     "output_type": "execute_result"
    }
   ],
   "source": [
    "def is_sort_2(lx):\n",
    "    \n",
    "    sorted = sort(lx)\n",
    "    \n",
    "    if (lx == sorted):\n",
    "        return True\n",
    "    return False\n",
    "\n",
    "is_sort_2([1,2,3,4,5,6])   # DOES NOT WORK :("
   ]
  },
  {
   "cell_type": "code",
   "execution_count": 210,
   "id": "5716a750",
   "metadata": {},
   "outputs": [
    {
     "data": {
      "text/plain": [
       "[]"
      ]
     },
     "execution_count": 210,
     "metadata": {},
     "output_type": "execute_result"
    }
   ],
   "source": [
    "# 4.2\n",
    "def mat_sort_index(mx):\n",
    "    inc_indecies = []\n",
    "    for i in range(len(mx)):\n",
    "        if(is_sorted(mx[i])): \n",
    "             inc_indecies.append(i)\n",
    "    return inc_indecies\n",
    "\n",
    "\n",
    "# check\n",
    "mat_sort_index(list_to_check)"
   ]
  },
  {
   "cell_type": "code",
   "execution_count": 213,
   "id": "a6320bb4",
   "metadata": {},
   "outputs": [
    {
     "name": "stdout",
     "output_type": "stream",
     "text": [
      "[[2, 2, 2, 2, 4, 2], [1, 3, 1, 3, 1, 5], [1, 3, 6, 7, 9, 10], [2, 4, 6, 7, 10, 5], [2, 4, 6, 6, 12, 7], [2, 4, 6, 6, 12, 14]]\n"
     ]
    }
   ],
   "source": [
    "print(mat_new)"
   ]
  },
  {
   "cell_type": "code",
   "execution_count": 215,
   "id": "0bd9caa7",
   "metadata": {},
   "outputs": [
    {
     "data": {
      "text/plain": [
       "[2, 5]"
      ]
     },
     "execution_count": 215,
     "metadata": {},
     "output_type": "execute_result"
    }
   ],
   "source": [
    "mat_sort_index(mat_new) # cool"
   ]
  },
  {
   "cell_type": "markdown",
   "id": "d1427dfb",
   "metadata": {},
   "source": [
    "# Useful codes"
   ]
  },
  {
   "cell_type": "code",
   "execution_count": null,
   "id": "6d83ae03",
   "metadata": {},
   "outputs": [],
   "source": []
  }
 ],
 "metadata": {
  "kernelspec": {
   "display_name": "Python 3",
   "language": "python",
   "name": "python3"
  },
  "language_info": {
   "codemirror_mode": {
    "name": "ipython",
    "version": 3
   },
   "file_extension": ".py",
   "mimetype": "text/x-python",
   "name": "python",
   "nbconvert_exporter": "python",
   "pygments_lexer": "ipython3",
   "version": "3.8.8"
  }
 },
 "nbformat": 4,
 "nbformat_minor": 5
}
